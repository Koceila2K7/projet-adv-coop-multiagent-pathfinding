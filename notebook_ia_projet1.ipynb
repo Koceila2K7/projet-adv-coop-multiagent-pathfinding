{
 "cells": [
  {
   "cell_type": "markdown",
   "metadata": {},
   "source": [
    "<h1>LU3IN025 Intelligence Artificielle et Jeux</h1>\n",
    "\n",
    "<h2>Rapport projet 1 : Cooperative path-finding</h2>\n",
    "\n",
    "<h3>Groupe 1 : Koceila KIRECHE & Nabil KERDOUCHE</h3>\n",
    "\n",
    "github: https://github.com/Koceila2K7/projet-adv-coop-multiagent-pathfinding\n"
   ]
  },
  {
   "cell_type": "markdown",
   "metadata": {},
   "source": [
    "--------------\n",
    "SOMMAIRE:\n",
    "\n",
    "Introduction\n",
    "\n",
    "Cooperative pathfinding avec A*\n",
    "\n",
    "Gestion des collisions :\n",
    "\n",
    "    Collisions internes\n",
    "    Collisions externes\n",
    "    \n",
    "Stratégies :\n",
    "\n",
    "    Mouvement aléatoire suite à une collision (EquipeA)\n",
    "    Re calcul de chemin (EquipeB)    \n",
    "    Re calcul de chemin améliorée (EquipeR)    \n",
    "    Path splicing (EquipePs)  \n",
    "    Anticipation de la collision (Equipe3)\n",
    "    BONUS: Multi-objectifs (EquipeM)\n",
    "    \n",
    "Affrontement des stratégies :\n",
    "\n",
    "    -A vs B\n",
    "    -A vs R\n",
    "    -A vs Ps\n",
    "    -A vs 3\n",
    "    -B vs R\n",
    "    -B vs Ps\n",
    "    -B vs 3\n",
    "    -R vs Ps\n",
    "    -R vs 3\n",
    "    -Ps vs 3\n",
    "    \n",
    "Conclusion\n",
    "\n",
    "-------------------------------------------------------------"
   ]
  },
  {
   "cell_type": "markdown",
   "metadata": {},
   "source": [
    "INTRODUCTION\n",
    "\n",
    "    Dans ce projet nous allons étudier différentes stratégies pour résoudre des problèmes de coopérative path-finding. Des équipes d'agents doivent atteindre des objectifs donnés, donc trouver des chemins, en évitant les collisions, qui permettent à chaque agent d'atteindre sa destination.\n",
    "\n",
    "-Cooperative pathfinding avec A* :\n",
    "\n",
    "    Les agents cherchent leur chemin collectivement, des nœuds espace-temps en 3 dimensions sont utilisés afin de résoudre le problème. La notion du temps rentre donc en jeu. Une table de réservation est utilisée, cela permet aux agents de réserver une case donnée (x,y) à un instant (t) donné, ce qui donne la coordonnée tri-dimensionnelle (x,y,t). Les déplacements possibles pour chaque agent deviennent donc : nord (x,y+1,t+1); sud (x,y-1,t+1); est (x+1,y,t+1), ouest (x-1,y,t+1), pause (x,y,t+1).\n",
    "\n",
    "-Gestion des collisions :\n",
    "\n",
    "    Collisions internes : elles sont gérées directement par l’algorithme de recherche de chemin collaboratif A*, à l’aide de la table de réservation (TableDeReservation.py) qui permet de réserver une case donnée pour un instant donné.\n",
    "\n",
    "    Collisions externes : elles sont gérées par une table de collisions (table_de_collision.py) qui détecte si deux joueurs vont rentrer en collision, cela est fait en suivant les mouvements des agents, donc chaque agent interroge cette table afin d’agir en conséquence en appliquant la stratégie de son équipe.\n",
    "\n",
    "-Stratégies :\n",
    "\n",
    "    Les stratégies des équipes sont basées sur l’algorithme cooperative A* pour la recherche de chemin en début de partie et la gestion des collisions internes.\n",
    "\n",
    "    Mouvement aléatoire suite à une collision (EquipeA.py) :\n",
    "        Lors d’une collision avec un joueur de l'équipe adverse, les agents de l’équipeA réagissent avec un mouvement aléatoire vers une case adjacente puis tentent de revenir vers le chemin pour poursuivre vers l’objectif.\n",
    "\n",
    "    Re calcul de chemin (EquipeB.py) :\n",
    "        Les agents de cette équipe recalculent directement les chemins vers leurs objectifs. L’ancien chemin du joueur est donc mis à jour lorsqu’il aperçoit un joueur adverse devant lui, donc le changement est fait que si c’est nécessaire.\n",
    "\n",
    "    Re calcul de chemin améliorée (EquipeR.py) :\n",
    "        Cette équipe apporte une amélioration à l’équipe B, ses agents tentent soit de recalculer le chemin, soit un mouvement aléatoire. Cette stratégie apporte deux avantages considérables: le premier est la consistance, car le joueur ne laisse pas tomber directement son meilleur chemin en considérant son adversaire comme obstacle, avec un petit mouvement aléatoire, il peut se retrouver de nouveau libre et aller droit vers l’objectif. le deuxième est l’optimisation du temps de calcul au cas où il n’est pas nécessaire de recalculer un chemin.\n",
    "\n",
    "    Path splicing (EquipePs.py) :\n",
    "        Les agents ne recalculent pas forcément tout le chemin lors de la rencontre d’un obstacle, ils calculent le plus court chemin vers une case se trouvant derrière le joueur adverse, cela peut apporter une optimisation considérable.\n",
    "        \n",
    "    Anticipation de la collision (Equipe3CaseALavance.py) :\n",
    "        Une stratégie qui apporte un grand avantage par rapport à celles qui attendent jusqu'à l'instant où un ennemi est sur la case où l'agent veut aller pour agir en conséquence. Ici, l'agent a un champ de vision de 3 cases devant lui, donc il anticipe.\n",
    "\n",
    "    BONUS : Multi-objectifs (EquipePleusieursObjectifs.py) :\n",
    "...\n",
    "\n",
    "---------------\n"
   ]
  },
  {
   "cell_type": "markdown",
   "metadata": {},
   "source": [
    "Affrontement des stratégies :"
   ]
  },
  {
   "cell_type": "code",
   "execution_count": null,
   "metadata": {},
   "outputs": [],
   "source": [
    "import sys\n",
    "sys.path.append('./adv_coop_multiagent_pathfinding')\n",
    "\n",
    "#random.seed(0)\n",
    "\n",
    "import test_AB\n",
    "import test_AR\n",
    "\n",
    "import test_APs\n",
    "import test_BR\n",
    "\n",
    "import test_BPs\n",
    "import test_RPs\n",
    "\n",
    "import test_A3\n",
    "import test_B3\n",
    "import test_R3\n",
    "import test_Ps3\n"
   ]
  },
  {
   "cell_type": "code",
   "execution_count": null,
   "metadata": {},
   "outputs": [],
   "source": [
    "test_AB.main()"
   ]
  },
  {
   "cell_type": "markdown",
   "metadata": {},
   "source": [
    "Observations :\n",
    "Equipe A a gagné (mouvement aléatoire lors d'une collision)\n"
   ]
  },
  {
   "cell_type": "code",
   "execution_count": null,
   "metadata": {},
   "outputs": [],
   "source": [
    "test_AR.main()"
   ]
  },
  {
   "cell_type": "markdown",
   "metadata": {},
   "source": [
    "Observations :\n",
    "Equipe A a gagné (mouvement aléatoire lors d'une collision)\n"
   ]
  },
  {
   "cell_type": "code",
   "execution_count": null,
   "metadata": {},
   "outputs": [],
   "source": [
    "test_APs.main()"
   ]
  },
  {
   "cell_type": "markdown",
   "metadata": {},
   "source": [
    "Observations :\n",
    "Equipe A a gagné (mouvement aléatoire lors d'une collision)\n"
   ]
  },
  {
   "cell_type": "code",
   "execution_count": null,
   "metadata": {},
   "outputs": [],
   "source": [
    "test_BR.main() ##"
   ]
  },
  {
   "cell_type": "markdown",
   "metadata": {},
   "source": [
    "Observations :\n",
    "Equipe B a gagné (recalcul de chemin)"
   ]
  },
  {
   "cell_type": "code",
   "execution_count": null,
   "metadata": {},
   "outputs": [],
   "source": [
    "test_BPs.main()"
   ]
  },
  {
   "cell_type": "markdown",
   "metadata": {},
   "source": [
    "Observations :\n",
    "Equipe B a gagné (recalcul de chemin)\n"
   ]
  },
  {
   "cell_type": "code",
   "execution_count": null,
   "metadata": {},
   "outputs": [],
   "source": [
    "test_RPs.main()"
   ]
  },
  {
   "cell_type": "markdown",
   "metadata": {},
   "source": [
    "Observations :\n",
    "Equipe R a gagné (recalcul de chemin améliorée)\n"
   ]
  },
  {
   "cell_type": "code",
   "execution_count": null,
   "metadata": {},
   "outputs": [],
   "source": [
    "test_A3.main()"
   ]
  },
  {
   "cell_type": "code",
   "execution_count": null,
   "metadata": {},
   "outputs": [],
   "source": [
    "test_B3.main()"
   ]
  },
  {
   "cell_type": "code",
   "execution_count": null,
   "metadata": {},
   "outputs": [],
   "source": [
    "test_R3.main()"
   ]
  },
  {
   "cell_type": "code",
   "execution_count": null,
   "metadata": {},
   "outputs": [],
   "source": [
    "test_Ps3.main()"
   ]
  },
  {
   "cell_type": "markdown",
   "metadata": {},
   "source": [
    "---\n",
    "CONCLUSION :\n",
    "\n",
    "    Nous pouvons conclure que l'algorithme A* collaboratif est très intéressant pour le calcul de chemin en coopération, cela nous évite directement les collisions internes. Concernant les meilleures stratégies pour gagner à ce genre de jeux, ce sont celles qui sont les plus consistantes, car non seulement elles consomment moins de ressources (un mouvement aléatoire ne consomme presque rien), mais elles sont très attachées au plus court chemin vers l’objectif (l’agent n'abandonne jamais son meilleur chemin vers le but). Les stratégies qui pourront  battre celle-ci sont celles qui utilisent des agents qui ont pour mission de perturber l'équipe adverse, vu que l’aléatoire cherche toujours à revenir dans son chemin principal. Il est très important de préciser que si on sort du principe de ce jeu, et qu'on veut résoudre un labyrinthe avec des obstacles par exemple, ce sera l'inverse, les stratégies de calcul de chemin et de path splicing seront à privilégier voir à exclure carrément l'aléatoire.\n"
   ]
  },
  {
   "cell_type": "markdown",
   "metadata": {},
   "source": []
  }
 ],
 "metadata": {
  "kernelspec": {
   "display_name": "Python 3",
   "language": "python",
   "name": "python3"
  },
  "language_info": {
   "codemirror_mode": {
    "name": "ipython",
    "version": 3
   },
   "file_extension": ".py",
   "mimetype": "text/x-python",
   "name": "python",
   "nbconvert_exporter": "python",
   "pygments_lexer": "ipython3",
   "version": "3.8.5"
  }
 },
 "nbformat": 4,
 "nbformat_minor": 4
}
